{
 "cells": [
  {
   "cell_type": "markdown",
   "metadata": {},
   "source": [
    "# Osnovi operativnih sistema\n",
    "## ```Projektni zadatak - Andrej Tomić 1106/22```\n",
    "## Bankarski algoritam"
   ]
  },
  {
   "cell_type": "markdown",
   "metadata": {},
   "source": [
    "```Funkcija za učitavanje podataka iz ulaznog fajla```"
   ]
  },
  {
   "cell_type": "code",
   "execution_count": 1,
   "metadata": {},
   "outputs": [],
   "source": [
    "def ucitavanje_ulaznog_fajla(naziv_fajla):\n",
    "    with open(naziv_fajla, 'r') as file:\n",
    "        linije = file.readlines()\n",
    "    \n",
    "    podaci = {}\n",
    "    podaci['broj_procesa'] = int(linije[0].split(':')[1].strip())\n",
    "    podaci['naziv_procesa'] = linije[1].split(':')[1].strip().split(' ')\n",
    "    podaci['broj_resursa'] = int(linije[2].split(':')[1].strip())\n",
    "    podaci['nazivi_resursa'] = linije[3].split(':')[1].strip().split(' ')\n",
    "    podaci['broj_instanci_resursa'] = list(map(int, linije[4].split(':')[1].strip().split(' ')))\n",
    "    podaci['vektor_raspolozivosti'] = list(map(int, linije[5].split(':')[1].strip().split(' ')))\n",
    "\n",
    "    def ucitaj_matricu(pocetna_linija, broj_redova):\n",
    "        matrica = []\n",
    "        for i in range(pocetna_linija, pocetna_linija + broj_redova):\n",
    "            matrica.append(list(map(int, linije[i].strip().split(' '))))\n",
    "        return matrica\n",
    "    \n",
    "    podaci['matrica_alokacije'] = ucitaj_matricu(7, podaci['broj_procesa'])\n",
    "    podaci['matrica_zahtjeva'] = ucitaj_matricu(7 + podaci['broj_procesa'] + 1, podaci['broj_procesa'])\n",
    "\n",
    "    pozicija_liste_zahtjeva = 7 + 2 * podaci['broj_procesa'] + 2\n",
    "    podaci['lista_zahtjeva'] = []\n",
    "    for i in range(pozicija_liste_zahtjeva, len(linije)):\n",
    "        podjela = linije[i].strip().split(' ')\n",
    "        naziv_procesa = podjela[0]\n",
    "        zahtjev = list(map(int, podjela[1:]))\n",
    "        podaci['lista_zahtjeva'].append((naziv_procesa, zahtjev))\n",
    "\n",
    "    return podaci"
   ]
  },
  {
   "cell_type": "markdown",
   "metadata": {},
   "source": [
    "```Funkcija za računanje matrice potreba```"
   ]
  },
  {
   "cell_type": "code",
   "execution_count": 2,
   "metadata": {},
   "outputs": [],
   "source": [
    "def matrica_potreba(matrica_zahtjeva, matrica_alokacije):\n",
    "    potreba = []\n",
    "    for i in range(len(matrica_zahtjeva)):\n",
    "        potreba.append([matrica_zahtjeva[i][j] - matrica_alokacije[i][j] for j in range(len(matrica_zahtjeva[0]))])\n",
    "    return potreba"
   ]
  },
  {
   "cell_type": "markdown",
   "metadata": {},
   "source": [
    "```Implementacija bankarskog algoritma```"
   ]
  },
  {
   "cell_type": "code",
   "execution_count": 3,
   "metadata": {},
   "outputs": [],
   "source": [
    "def bankarski_algoritam(vektor_raspolozivosti, matrica_alokacije, matrica_zahtjeva):\n",
    "    broj_procesa = len(matrica_alokacije)\n",
    "    broj_resursa = len(vektor_raspolozivosti)\n",
    "\n",
    "    rad = vektor_raspolozivosti[:]\n",
    "    zavrseni = [False] * broj_procesa\n",
    "    sigurno = []\n",
    "\n",
    "    while len(sigurno) < broj_procesa:\n",
    "        pronadjen = False\n",
    "        for i in range(broj_procesa):\n",
    "            if not zavrseni[i] and all(matrica_zahtjeva[i][j] <= rad[j] for j in range(broj_resursa)):\n",
    "                for j in range(broj_resursa):\n",
    "                    rad[j] += matrica_alokacije[i][j]\n",
    "                zavrseni[i] = True\n",
    "                sigurno.append(i)\n",
    "                pronadjen = True\n",
    "                break\n",
    "        if not pronadjen:\n",
    "            return False, []\n",
    "    \n",
    "    return True, sigurno"
   ]
  },
  {
   "cell_type": "markdown",
   "metadata": {},
   "source": [
    "```Provjera zahtjeva```"
   ]
  },
  {
   "cell_type": "code",
   "execution_count": 4,
   "metadata": {},
   "outputs": [],
   "source": [
    "def odobren_zahtjev(indeks_procesa, lista_zahtjeva, vektor_raspolozivosti, matrica_alokacije, matrica_potreba):\n",
    "    broj_resursa = len(vektor_raspolozivosti)\n",
    "    \n",
    "    if any(lista_zahtjeva[i] > matrica_potreba[indeks_procesa][i] for i in range(broj_resursa)):\n",
    "        return False\n",
    "    \n",
    "    if any(lista_zahtjeva[i] > vektor_raspolozivosti[i] for i in range(broj_resursa)):\n",
    "        return False\n",
    "    \n",
    "    vektor_raspolozivosti_kopija = vektor_raspolozivosti[:]\n",
    "    matrica_alokacije_kopija = [red[:] for red in matrica_alokacije]\n",
    "    matrica_potreba_kopija = [red[:] for red in matrica_potreba]\n",
    "\n",
    "    for i in range(broj_resursa):\n",
    "        vektor_raspolozivosti_kopija[i] -= lista_zahtjeva[i]\n",
    "        matrica_alokacije_kopija[indeks_procesa][i] += lista_zahtjeva[i]\n",
    "        matrica_potreba_kopija[indeks_procesa][i] -= lista_zahtjeva[i]\n",
    "\n",
    "    sigurno, _ = bankarski_algoritam(vektor_raspolozivosti_kopija, matrica_alokacije_kopija, matrica_potreba_kopija)\n",
    "    return sigurno"
   ]
  },
  {
   "cell_type": "markdown",
   "metadata": {},
   "source": [
    "```Izvršavanje simulacije```"
   ]
  },
  {
   "cell_type": "code",
   "execution_count": 5,
   "metadata": {},
   "outputs": [
    {
     "name": "stdout",
     "output_type": "stream",
     "text": [
      "Prva simulacija:\n",
      "--- Rezultati simulacije ---\n",
      "Matrica potreba:\n",
      "   7 4 3\n",
      "   1 2 2\n",
      "   6 0 0\n",
      "   0 1 1\n",
      "   4 3 1\n",
      "Sistem je u stabilnom stanju (P1 -> P3 -> P0 -> P2 -> P4).\n",
      "Zahtjev (P1, 1, 1, 1) će biti odobren.\n",
      "Zahtjev (P2, 3, 0, 0) će biti odobren.\n",
      "Zahtjev (P4, 3, 3, 1) neće biti odobren.\n",
      "\n",
      "Druga simulacija:\n",
      "--- Rezultati simulacije ---\n",
      "Matrica potreba:\n",
      "   5\n",
      "   2\n",
      "   7\n",
      "Sistem je u stabilnom stanju (P1 -> P0 -> P2).\n",
      "\n",
      "Treća simulacija:\n",
      "--- Rezultati simulacije ---\n",
      "Matrica potreba:\n",
      "   1 1 6\n",
      "   4 4 1\n",
      "   1 2 5\n",
      "   1 3 1\n",
      "   1 0 7\n",
      "   2 0 6\n",
      "Sistem je u stabilnom stanju (P4 -> P1 -> P2 -> P3 -> P5 -> P6).\n",
      "Zahtjev (P1, 0, 1, 0) neće biti odobren.\n",
      "Zahtjev (P2, 0, 0, 1) neće biti odobren.\n",
      "Zahtjev (P3, 1, 0, 0) će biti odobren.\n"
     ]
    }
   ],
   "source": [
    "def simulacija(naziv_ulaznog_fajla):\n",
    "    podaci = ucitavanje_ulaznog_fajla(naziv_ulaznog_fajla)\n",
    "    matrica_potreba_ = matrica_potreba(podaci['matrica_zahtjeva'], podaci['matrica_alokacije'])\n",
    "    \n",
    "    print(\"--- Rezultati simulacije ---\")\n",
    "    print(\"Matrica potreba:\")\n",
    "    for red in matrica_potreba_:\n",
    "        print(\"   \" + ' '.join(map(str, red)))\n",
    "\n",
    "    sigurno, sigurno_stanje_ = bankarski_algoritam(podaci['vektor_raspolozivosti'], podaci['matrica_alokacije'], matrica_potreba_)\n",
    "    if sigurno:\n",
    "        sekvenca_procesa = ' -> '.join(podaci['naziv_procesa'][i] for i in sigurno_stanje_)\n",
    "        print(f\"Sistem je u stabilnom stanju ({sekvenca_procesa}).\")\n",
    "    else:\n",
    "        print(\"Sistem nije u stabilnom stanju.\")\n",
    "\n",
    "    for zahtjev in podaci['lista_zahtjeva']:\n",
    "        naziv_procesa = zahtjev[0]\n",
    "        indeks_procesa = podaci['naziv_procesa'].index(naziv_procesa)\n",
    "        zahtjev_resursa = zahtjev[1]\n",
    "\n",
    "        if odobren_zahtjev(indeks_procesa, zahtjev_resursa, podaci['vektor_raspolozivosti'], podaci['matrica_alokacije'], matrica_potreba_):\n",
    "            print(f\"Zahtjev ({naziv_procesa}, {', '.join(map(str, zahtjev_resursa))}) će biti odobren.\")\n",
    "        else:\n",
    "            print(f\"Zahtjev ({naziv_procesa}, {', '.join(map(str, zahtjev_resursa))}) neće biti odobren.\")\n",
    "\n",
    "# Pokretanje simulacije\n",
    "print('Prva simulacija:')\n",
    "simulacija('ulaz.txt')\n",
    "\n",
    "print('\\nDruga simulacija:')\n",
    "simulacija('ulaz2.txt')\n",
    "\n",
    "print('\\nTreća simulacija:')\n",
    "simulacija('ulaz3.txt')"
   ]
  }
 ],
 "metadata": {
  "kernelspec": {
   "display_name": "Python 3",
   "language": "python",
   "name": "python3"
  },
  "language_info": {
   "codemirror_mode": {
    "name": "ipython",
    "version": 3
   },
   "file_extension": ".py",
   "mimetype": "text/x-python",
   "name": "python",
   "nbconvert_exporter": "python",
   "pygments_lexer": "ipython3",
   "version": "3.12.3"
  }
 },
 "nbformat": 4,
 "nbformat_minor": 2
}
